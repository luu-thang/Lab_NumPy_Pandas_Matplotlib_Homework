{
 "cells": [
  {
   "cell_type": "code",
   "execution_count": 3,
   "metadata": {},
   "outputs": [
    {
     "name": "stdout",
     "output_type": "stream",
     "text": []
    }
   ],
   "source": [
    "import torch\n",
    "torch.cuda.is_available()\n",
    "if torch.cuda.is_available():\n",
    "    torch.cuda.current_device()\n",
    "else:\n",
    "    raise AssertionError(\"Torch not compiled with CUDA enabled\")"
   ]
  },
  {
   "cell_type": "code",
   "execution_count": null,
   "metadata": {},
   "outputs": [],
   "source": [
    "torch.cuda.get_device_name(0)"
   ]
  },
  {
   "cell_type": "code",
   "execution_count": 5,
   "metadata": {},
   "outputs": [
    {
     "name": "stdout",
     "output_type": "stream",
     "text": []
    }
   ],
   "source": [
    "torch.cuda.memory_allocated(0)"
   ]
  },
  {
   "cell_type": "code",
   "execution_count": 6,
   "metadata": {},
   "outputs": [
    {
     "name": "stdout",
     "output_type": "stream",
     "text": []
    }
   ],
   "source": [
    "import torch\n",
    "import numpy as np\n",
    "import matplotlib.pyplot as plt\n",
    "import pandas as pd\n",
    "\n",
    "df = pd.read_csv('Iris.csv')\n",
    "df.head()"
   ]
  },
  {
   "cell_type": "code",
   "execution_count": 8,
   "metadata": {},
   "outputs": [
    {
     "name": "stdout",
     "output_type": "stream",
     "text": []
    }
   ],
   "source": [
    "df.shape"
   ]
  },
  {
   "cell_type": "code",
   "execution_count": 11,
   "metadata": {},
   "outputs": [],
   "source": [
    "from sklearn.preprocessing import LabelEncoder\n",
    "from sklearn.model_selection import train_test_split\n",
    "\n",
    "le = LabelEncoder()\n",
    "X = df.drop(columns=['Id', 'Species']).to_numpy()\n",
    "y = le.fit_transform(df['Species'])\n",
    "\n",
    "# Splitting the dataset into the Training set and Test set\n",
    "X_train, X_test, y_train, y_test = train_test_split(X, y, test_size=0.2, random_state=42)\n",
    "\n",
    "X_train = torch.FloatTensor(X_train)\n",
    "X_test = torch.FloatTensor(X_test)\n",
    "y_train = torch.LongTensor(y_train).reshape(-1, 1)\n",
    "y_test = torch.LongTensor(y_test).reshape(-1, 1)\n",
    "\n"
   ]
  },
  {
   "cell_type": "code",
   "execution_count": 13,
   "metadata": {},
   "outputs": [
    {
     "name": "stdout",
     "output_type": "stream",
     "text": []
    }
   ],
   "source": [
    "print(f'train size {len(y_train)}')"
   ]
  },
  {
   "cell_type": "code",
   "execution_count": 14,
   "metadata": {},
   "outputs": [
    {
     "name": "stdout",
     "output_type": "stream",
     "text": []
    }
   ],
   "source": [
    "Label, count = y_train.unique(return_counts=True)\n",
    "print(f'Label {Label} count {count}')"
   ]
  },
  {
   "cell_type": "code",
   "execution_count": 15,
   "metadata": {},
   "outputs": [],
   "source": [
    "import torch\n",
    "# tao mot tensor voi require_grad = True\n",
    "x = torch.tensor(2.0, requires_grad=True)"
   ]
  },
  {
   "cell_type": "code",
   "execution_count": 16,
   "metadata": {},
   "outputs": [
    {
     "name": "stdout",
     "output_type": "stream",
     "text": []
    }
   ],
   "source": [
    "y  = 2*x**4 + x**3 + 3*x**2 + 5*x + 1\n",
    "print(y)"
   ]
  },
  {
   "cell_type": "code",
   "execution_count": 17,
   "metadata": {},
   "outputs": [
    {
     "name": "stdout",
     "output_type": "stream",
     "text": []
    }
   ],
   "source": [
    "y.grad_fn"
   ]
  },
  {
   "cell_type": "code",
   "execution_count": 18,
   "metadata": {},
   "outputs": [],
   "source": [
    "# thuc hien truyen nguoc va tinh toan gradient\n",
    "y.backward()"
   ]
  },
  {
   "cell_type": "code",
   "execution_count": 19,
   "metadata": {},
   "outputs": [
    {
     "name": "stdout",
     "output_type": "stream",
     "text": []
    }
   ],
   "source": [
    "x.grad"
   ]
  },
  {
   "cell_type": "code",
   "execution_count": null,
   "metadata": {},
   "outputs": [
    {
     "name": "stdout",
     "output_type": "stream",
     "text": []
    }
   ],
   "source": [
    "# Bai tap \n",
    "# Cho y = 5x^6+3x^3+2x^1+x+2x+5x^4+1\n",
    "# Cho biet do doc cua da thuc tren tai diem nao.\n",
    "import torch\n",
    "\n",
    "# Define the polynomial function\n",
    "x = torch.tensor(2.0, requires_grad=True)\n",
    "y = 5*x**6 + 3*x**3 + 2*x + x + 2*x + 5*x**4 + 1\n",
    "\n",
    "y.grad_fn\n",
    "y.backward()\n",
    "print(y)\n"
   ]
  },
  {
   "cell_type": "code",
   "execution_count": null,
   "metadata": {},
   "outputs": [
    {
     "name": "stdout",
     "output_type": "stream",
     "text": []
    }
   ],
   "source": [
    "\n",
    "x.grad"
   ]
  },
  {
   "cell_type": "markdown",
   "metadata": {},
   "source": [
    "#### BTVN 1:\n",
    "Tao mot tensor co gia tri ban dau la 2.0\n",
    "Dinh nghia ham so va tinh gradient\n",
    "y = x^3 + 2x^2 +5x + 1\n",
    "hay tinh dy/dx tai gia tri cua x\n",
    "Dung phuong phap Gradient Descent voi learning rate alpha = 0.1 de cap nhat gia tri x trong 10 vong lap\n",
    "#### BTVN 2\n",
    "Tao mot tap du lieu gia lap voi x la so gio hoc( ngau nhien tu 1-10) va y la so diem duoc tinh theo cong thuc y = 3x + 5 + noise\n",
    "voi noise la mot gia tri ngau nhien nho\n",
    " 1. khoi tao tham so w va b ngau nhien voi requires_grand = true\n",
    " 2. tinh MSE\n",
    " 3. Tinh gradient\n",
    " 4. Cap nhat tham so w va b bang Gradient Descent voi learning rate alpha = 0.01\n",
    " 5. Lap lai qua trinh tren trong 100 vong lap va quan sat su hoi tu cua mo hinh."
   ]
  },
  {
   "cell_type": "code",
   "execution_count": 2,
   "metadata": {},
   "outputs": [
    {
     "name": "stdout",
     "output_type": "stream",
     "text": []
    }
   ],
   "source": [
    "# BTVN 1:\n",
    "# Tao mot tensor co gia tri ban dau la 2.0\n",
    "x = torch.tensor(2.0, requires_grad=True)\n",
    "\n",
    "# Dinh nghia ham so\n",
    "def polynomial(x):\n",
    "    return x**3 + 2*x**2 + 5*x + 1\n",
    "\n",
    "# Dung phuong phap Gradient Descent voi learning rate alpha = 0.1 de cap nhat gia tri x trong 10 vong lap\n",
    "learning_rate = 0.1\n",
    "for i in range(10):\n",
    "    y = polynomial(x)\n",
    "    y.backward()\n",
    "    with torch.no_grad():\n",
    "        x -= learning_rate * x.grad\n",
    "        x.grad.zero_()\n",
    "    print(f'Iteration {i+1}: x = {x.item()}')"
   ]
  },
  {
   "cell_type": "code",
   "execution_count": 26,
   "metadata": {},
   "outputs": [
    {
     "name": "stdout",
     "output_type": "stream",
     "text": []
    }
   ],
   "source": [
    "# BTVN 2\n",
    "# Tao mot tap du lieu gia lap voi x la so gio hoc( ngau nhien tu 1-10) va y la so diem duoc tinh theo cong thuc y = 3x + 5 + noise\n",
    "# voi noise la mot gia tri ngau nhien nho\n",
    "import torch\n",
    "import numpy as np\n",
    "\n",
    "np.random.seed(42)\n",
    "x = np.random.randint(1, 11, size=(100, 1))\n",
    "noise = np.random.randn(100, 1)\n",
    "y = 3 * x + 5 + noise\n",
    "\n",
    "x_train = torch.FloatTensor(x)\n",
    "y_train = torch.FloatTensor(y)\n",
    "\n",
    "# 1. khoi tao tham so w va b ngau nhien voi requires_grad = true\n",
    "w = torch.randn(1, requires_grad=True)\n",
    "b = torch.randn(1, requires_grad=True)\n",
    "\n",
    "learning_rate = 0.01\n",
    "num_iterations = 100\n",
    "\n",
    "for i in range(num_iterations):\n",
    "    # 2. tinh MSE\n",
    "    y_pred = w * x_train + b\n",
    "    loss = torch.mean((y_pred - y_train) ** 2)\n",
    "\n",
    "    # 3. Tinh gradient\n",
    "    loss.backward()\n",
    "\n",
    "    # 4. Cap nhat tham so w va b bang Gradient Descent voi learning rate alpha = 0.01\n",
    "    with torch.no_grad():\n",
    "        w -= learning_rate * w.grad\n",
    "        b -= learning_rate * b.grad\n",
    "\n",
    "        # Zero the gradients after updating\n",
    "        w.grad.zero_()\n",
    "        b.grad.zero_()\n",
    "\n",
    "    if (i + 1) % 10 == 0:\n",
    "        print(f'Iteration {i+1}: w = {w.item()}, b = {b.item()}, loss = {loss.item()}')"
   ]
  }
 ],
 "metadata": {
  "kernelspec": {
   "display_name": "Python 3",
   "language": "python",
   "name": "python3"
  },
  "language_info": {
   "codemirror_mode": {
    "name": "ipython",
    "version": 3
   },
   "file_extension": ".py",
   "mimetype": "text/x-python",
   "name": "python",
   "nbconvert_exporter": "python",
   "pygments_lexer": "ipython3",
   "version": "3.10.11"
  }
 },
 "nbformat": 4,
 "nbformat_minor": 2
}
